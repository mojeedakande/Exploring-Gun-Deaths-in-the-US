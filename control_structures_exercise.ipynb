{
  "cells": [
    {
      "cell_type": "markdown",
      "metadata": {
        "id": "view-in-github",
        "colab_type": "text"
      },
      "source": [
        "<a href=\"https://colab.research.google.com/github/Habeebiy/Exploring-Gun-Deaths-in-the-US/blob/master/control_structures_exercise.ipynb\" target=\"_parent\"><img src=\"https://colab.research.google.com/assets/colab-badge.svg\" alt=\"Open In Colab\"/></a>"
      ]
    },
    {
      "cell_type": "markdown",
      "metadata": {
        "id": "S6vrjTQTXdEK"
      },
      "source": [
        "# Simple exercises for control structures in Python\n",
        "- conditionals\n",
        "- while loops\n",
        "- for loops"
      ]
    },
    {
      "cell_type": "markdown",
      "metadata": {
        "id": "2u-s9JpCXdEQ"
      },
      "source": [
        "## FOR loop"
      ]
    },
    {
      "cell_type": "code",
      "execution_count": 2,
      "metadata": {
        "id": "qjxB9k96XdER"
      },
      "outputs": [],
      "source": [
        "heights = [1.82,1.75,1.68,1.76,1.5]"
      ]
    },
    {
      "cell_type": "markdown",
      "metadata": {
        "id": "03H4j7qVXdEU"
      },
      "source": [
        "#### 0. Use for loop to print values from \"heights\" list "
      ]
    },
    {
      "cell_type": "code",
      "execution_count": 3,
      "metadata": {
        "id": "ZT4VyW_6XdEV",
        "outputId": "3c1189b3-eb53-4149-803f-f9f5a5a675c4",
        "colab": {
          "base_uri": "https://localhost:8080/"
        }
      },
      "outputs": [
        {
          "output_type": "stream",
          "name": "stdout",
          "text": [
            "1.82\n",
            "1.75\n",
            "1.68\n",
            "1.76\n",
            "1.5\n"
          ]
        }
      ],
      "source": [
        "for x in heights:\n",
        "    print(x)"
      ]
    },
    {
      "cell_type": "code",
      "execution_count": 5,
      "metadata": {
        "id": "Q8RxTqh_XdEV",
        "outputId": "9d147236-17fa-474e-8ff2-92acf5b5738e",
        "colab": {
          "base_uri": "https://localhost:8080/"
        }
      },
      "outputs": [
        {
          "output_type": "stream",
          "name": "stdout",
          "text": [
            "[1.82, 1.75, 1.68, 1.76, 1.5]\n"
          ]
        }
      ],
      "source": [
        "j = [x for x in heights]\n",
        "print(j)"
      ]
    },
    {
      "cell_type": "markdown",
      "metadata": {
        "id": "kXq4U_35XdEW"
      },
      "source": [
        "#### 1. Use for loop for printing only values bigger than 1.75"
      ]
    },
    {
      "cell_type": "code",
      "execution_count": 11,
      "metadata": {
        "id": "qVCWJ1GbXdEW"
      },
      "outputs": [],
      "source": [
        "bigger = [x for x in heights if x > 1.75]"
      ]
    },
    {
      "cell_type": "code",
      "execution_count": 12,
      "metadata": {
        "id": "ukFRp9SUXdEX",
        "outputId": "426c38b4-e10e-4fa9-9506-443a64fa1cf3",
        "colab": {
          "base_uri": "https://localhost:8080/"
        }
      },
      "outputs": [
        {
          "output_type": "execute_result",
          "data": {
            "text/plain": [
              "[1.82, 1.76]"
            ]
          },
          "metadata": {},
          "execution_count": 12
        }
      ],
      "source": [
        "bigger"
      ]
    },
    {
      "cell_type": "markdown",
      "metadata": {
        "id": "ch2K9dafXdEY"
      },
      "source": [
        "#### 2. Use for loop for printing all values until you find value 1.68 (included)"
      ]
    },
    {
      "cell_type": "code",
      "execution_count": 18,
      "metadata": {
        "id": "0j5_-y65XdEZ",
        "outputId": "0accab60-3f02-4b27-9c75-6ee42bda94e9",
        "colab": {
          "base_uri": "https://localhost:8080/"
        }
      },
      "outputs": [
        {
          "output_type": "stream",
          "name": "stdout",
          "text": [
            "1.68\n",
            "1.5\n"
          ]
        }
      ],
      "source": [
        "for x in heights:\n",
        "    if x <= 1.68:\n",
        "        print(x)"
      ]
    },
    {
      "cell_type": "markdown",
      "metadata": {
        "id": "P6FElHaLXdEZ"
      },
      "source": [
        "#### 3. Modify the previous loop to print all values from `\"heights\"` without value 1.68"
      ]
    },
    {
      "cell_type": "code",
      "execution_count": null,
      "metadata": {
        "id": "cQAbNIZ-XdEa"
      },
      "outputs": [],
      "source": [
        "s = 1.68"
      ]
    },
    {
      "cell_type": "code",
      "execution_count": 19,
      "metadata": {
        "id": "sfZfNcteXdEa",
        "outputId": "c05e44f6-bdf2-4c6a-dfac-dd9711882e26",
        "colab": {
          "base_uri": "https://localhost:8080/"
        }
      },
      "outputs": [
        {
          "output_type": "stream",
          "name": "stdout",
          "text": [
            "1.82\n",
            "1.75\n",
            "1.76\n"
          ]
        }
      ],
      "source": [
        "for x in heights:\n",
        "    if x > 1.68:\n",
        "        print(x)"
      ]
    },
    {
      "cell_type": "markdown",
      "metadata": {
        "id": "bAvlfyC8XdEb"
      },
      "source": [
        "#### 4. use for loop over to iterate over `\"heights\"` and print \"high\" for values bigger than 1.75, \"medium\" for values between 1.68 and 1.75 and \"small\" for values lower than 1.68"
      ]
    },
    {
      "cell_type": "code",
      "execution_count": 23,
      "metadata": {
        "id": "bv4iwMd6XdEb",
        "outputId": "6b85f230-f0b1-4633-90a3-88221e59d9dd",
        "colab": {
          "base_uri": "https://localhost:8080/"
        }
      },
      "outputs": [
        {
          "output_type": "stream",
          "name": "stdout",
          "text": [
            "1.82 = high\n",
            "1.76 = high\n",
            "1.5 = small\n"
          ]
        }
      ],
      "source": [
        "for s in heights:\n",
        "    if s > 1.75:\n",
        "        print('{} = high'.format(s))\n",
        "    elif s > 1.68 and s < 1.75:\n",
        "        print('{} = medium'.format(s))\n",
        "    elif s < 1.68:\n",
        "        print('{} = small'.format(s))"
      ]
    },
    {
      "cell_type": "code",
      "execution_count": null,
      "metadata": {
        "id": "mwHxyBeSXdEc"
      },
      "outputs": [],
      "source": []
    },
    {
      "cell_type": "markdown",
      "metadata": {
        "id": "JBWO1FoDXdEc"
      },
      "source": [
        "## WHILE loop"
      ]
    },
    {
      "cell_type": "markdown",
      "metadata": {
        "id": "JvBFwvcsXdEc"
      },
      "source": [
        "#### 1. Print out numbers from 0 to 4"
      ]
    },
    {
      "cell_type": "code",
      "execution_count": null,
      "metadata": {
        "id": "zhskrZVmXdEd"
      },
      "outputs": [],
      "source": [
        "s = []\n",
        "while"
      ]
    },
    {
      "cell_type": "code",
      "execution_count": null,
      "metadata": {
        "id": "9LrOiRqVXdEd"
      },
      "outputs": [],
      "source": []
    },
    {
      "cell_type": "markdown",
      "metadata": {
        "id": "_Zw1Hf6dXdEd"
      },
      "source": [
        "#### 2. use while loop to print out only even numbers lower than 15\n",
        "hint : use `\"%\"` modulo operator"
      ]
    },
    {
      "cell_type": "code",
      "execution_count": null,
      "metadata": {
        "id": "AaPw0eabXdEe"
      },
      "outputs": [],
      "source": []
    },
    {
      "cell_type": "code",
      "execution_count": null,
      "metadata": {
        "id": "Q8UYrd6PXdEe"
      },
      "outputs": [],
      "source": []
    },
    {
      "cell_type": "markdown",
      "metadata": {
        "id": "qZYYlSaWXdEe"
      },
      "source": [
        "#### 3. use while loop to print all numbers lower than 15 but skip first five values"
      ]
    },
    {
      "cell_type": "code",
      "execution_count": null,
      "metadata": {
        "id": "VgmRTNTNXdEe"
      },
      "outputs": [],
      "source": []
    },
    {
      "cell_type": "code",
      "execution_count": null,
      "metadata": {
        "id": "ZLOcVV5_XdEf"
      },
      "outputs": [],
      "source": []
    },
    {
      "cell_type": "markdown",
      "metadata": {
        "id": "UmkJckITXdEf"
      },
      "source": [
        "## Actors\n",
        "We have two lists actors and roles which are defined below:"
      ]
    },
    {
      "cell_type": "code",
      "execution_count": 25,
      "metadata": {
        "id": "pgN5PYJkXdEf"
      },
      "outputs": [],
      "source": [
        "actors = [\n",
        "    \"Nathan Fillion\",\n",
        "    \"Gina Torres\",\n",
        "    \"Alan Tudyk\",\n",
        "    \"Morena Baccarin\",\n",
        "    \"Adam Baldwin\",\n",
        "    \"Jewel Staite\",\n",
        "    \"Sean Maher\",\n",
        "    \"Summer Glau\",\n",
        "    \"Ron Glass\"\n",
        "]\n",
        "\n",
        "roles = [\n",
        "    \"Captain Malcolm Reynolds\",\n",
        "    \"Zoe Washburn\",\n",
        "    \"Hoban Washburn\",\n",
        "    \"Inara Serra\",\n",
        "    \"Jayne Cobb\",\n",
        "    \"Kaylee Frye\",\n",
        "    \"Dr. Simon Tam\",\n",
        "    \"River Tam\",\n",
        "    \"Derrial Book\"\n",
        "]"
      ]
    },
    {
      "cell_type": "markdown",
      "metadata": {
        "id": "ftDF1BVhXdEg"
      },
      "source": [
        "We would like to produce a credit reel, by matching each actor with their role in the show. We know that both lists are in the correct order, such that for any number—let's say `n`—we know that `actors[n]` and `roles[n]` match. For example, `actors[3]` gives us \"Morena Baccarin,\" and `roles[3]` gives us \"Inara Serra,\" so we know that Morena Baccarin played Inara Serra in the show. **We want to print out the credits for all of the actors in the list.**\n",
        "\n",
        "Here's an example of what we want to see when the code runs:\n",
        "\n",
        "Featuring:<br>\n",
        "=============<br>\n",
        "Nathan Fillion as Captain Malcolm Reynolds\"<br>\n",
        "...."
      ]
    },
    {
      "cell_type": "code",
      "execution_count": 32,
      "metadata": {
        "id": "JsR7GUobXdEh",
        "outputId": "a22a4757-4206-4fa4-bd43-d71905929371",
        "colab": {
          "base_uri": "https://localhost:8080/"
        }
      },
      "outputs": [
        {
          "output_type": "stream",
          "name": "stdout",
          "text": [
            "Nathan Fillion as Captain Malcolm Reynolds\n",
            "Gina Torres as Zoe Washburn\n",
            "Alan Tudyk as Hoban Washburn\n",
            "Morena Baccarin as Inara Serra\n",
            "Adam Baldwin as Jayne Cobb\n",
            "Jewel Staite as Kaylee Frye\n",
            "Sean Maher as Dr. Simon Tam\n",
            "Summer Glau as River Tam\n",
            "Ron Glass as Derrial Book\n"
          ]
        }
      ],
      "source": [
        "for actor, role in zip(actors, roles):\n",
        "    print(actor + ' as ' + role)"
      ]
    },
    {
      "cell_type": "code",
      "execution_count": null,
      "metadata": {
        "id": "-n9cxDKCXdEh"
      },
      "outputs": [],
      "source": []
    }
  ],
  "metadata": {
    "kernelspec": {
      "display_name": "Python 3",
      "language": "python",
      "name": "python3"
    },
    "language_info": {
      "codemirror_mode": {
        "name": "ipython",
        "version": 3
      },
      "file_extension": ".py",
      "mimetype": "text/x-python",
      "name": "python",
      "nbconvert_exporter": "python",
      "pygments_lexer": "ipython3",
      "version": "3.7.6"
    },
    "colab": {
      "provenance": [],
      "include_colab_link": true
    }
  },
  "nbformat": 4,
  "nbformat_minor": 0
}