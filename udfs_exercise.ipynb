{
  "cells": [
    {
      "cell_type": "markdown",
      "metadata": {
        "id": "view-in-github",
        "colab_type": "text"
      },
      "source": [
        "<a href=\"https://colab.research.google.com/github/Habeebiy/Exploring-Gun-Deaths-in-the-US/blob/master/udfs_exercise.ipynb\" target=\"_parent\"><img src=\"https://colab.research.google.com/assets/colab-badge.svg\" alt=\"Open In Colab\"/></a>"
      ]
    },
    {
      "cell_type": "markdown",
      "metadata": {
        "id": "kvLH6mDp_12P"
      },
      "source": [
        "# UDFs in Python"
      ]
    },
    {
      "cell_type": "markdown",
      "metadata": {
        "id": "LSJn8QQo_12g"
      },
      "source": [
        "#### Greeter\n",
        "Write a function that takes in a person's name, and prints out a greeting.\n",
        "The greeting must be at least three lines, and the person's name must be in each line.\n",
        "Use your function to greet at least **three** different people.\n",
        "\n",
        "**Bonus:** Store your three people in a list, and call your function from a for loop.\n",
        "\n",
        "\n",
        "**Example Output:**\n",
        "\n",
        "Hello John!<br>\n",
        "Hello John!<br>\n",
        "Hello John!<br>"
      ]
    },
    {
      "cell_type": "code",
      "execution_count": 9,
      "metadata": {
        "id": "3hZbvWph_12l",
        "outputId": "249a7f4a-d518-47c9-831f-8a5c027119e8",
        "colab": {
          "base_uri": "https://localhost:8080/"
        }
      },
      "outputs": [
        {
          "output_type": "stream",
          "name": "stdout",
          "text": [
            "Hello Mojeed\n",
            "Hello Akande\n",
            "Hello Akande\n"
          ]
        }
      ],
      "source": [
        "def person_name(names):\n",
        "    #num = 0\n",
        "    for name in names:\n",
        "        print(f'Hello {name}')\n",
        "\n",
        "    \n",
        "my_names = ['Mojeed', 'Akande', 'Akande']\n",
        "\n",
        "person_name(my_names)\n"
      ]
    },
    {
      "cell_type": "code",
      "execution_count": null,
      "metadata": {
        "id": "oulU-2EG_12o"
      },
      "outputs": [],
      "source": []
    },
    {
      "cell_type": "markdown",
      "metadata": {
        "id": "fTwuA8H7_12p"
      },
      "source": [
        "#### Full Names\n",
        "Write a function that takes in a first name and a last name, and prints out a nicely formatted full name, in a sentence. Your sentence could be as simple as, \"Hello, full_name.\""
      ]
    },
    {
      "cell_type": "code",
      "execution_count": 13,
      "metadata": {
        "id": "__ROzYZb_12r",
        "outputId": "9701bd40-8688-47f3-d446-460a5df71aac",
        "colab": {
          "base_uri": "https://localhost:8080/"
        }
      },
      "outputs": [
        {
          "output_type": "stream",
          "name": "stdout",
          "text": [
            "Hello, Mojeed Akande\n"
          ]
        }
      ],
      "source": [
        "def full_name(first_name, last_name):\n",
        "    return f\"Hello, {first_name} {last_name}\"\n",
        "\n",
        "print(full_name(\"Mojeed\", \"Akande\"))"
      ]
    },
    {
      "cell_type": "code",
      "execution_count": null,
      "metadata": {
        "id": "XrX4fITU_12s"
      },
      "outputs": [],
      "source": []
    },
    {
      "cell_type": "markdown",
      "metadata": {
        "id": "NmQNpDTk_12t"
      },
      "source": [
        "#### Addition Calculator\n",
        "Write a function that takes in two numbers, and adds them together. Make your function print out a sentence showing the two numbers, and the result.\n",
        "\n",
        "**Example Output:**\n",
        "\n",
        "The sum of 2 and 3 is 5."
      ]
    },
    {
      "cell_type": "code",
      "execution_count": 17,
      "metadata": {
        "id": "M1szS5tf_12w",
        "outputId": "6dc6f57f-aa58-42c9-ccb8-71b9f7a31dbe",
        "colab": {
          "base_uri": "https://localhost:8080/"
        }
      },
      "outputs": [
        {
          "output_type": "stream",
          "name": "stdout",
          "text": [
            "The sum of 12 and 5 is 17\n"
          ]
        }
      ],
      "source": [
        "from re import X\n",
        "def calculator(num1, num2):\n",
        "    calc = num1 + num2\n",
        "    return (\"The sum of {} and {} is \".format(num1, num2)) + str(calc)\n",
        "\n",
        "\n",
        "print(calculator(12, 5))"
      ]
    },
    {
      "cell_type": "code",
      "execution_count": null,
      "metadata": {
        "id": "6YGWXu78_12x"
      },
      "outputs": [],
      "source": []
    },
    {
      "cell_type": "markdown",
      "metadata": {
        "id": "AdBgUPwK_12y"
      },
      "source": [
        "#### Return Calculator\n",
        "Modify Addition Calculator so that your function **returns** the sum of the two numbers. The printing should happen outside of the function."
      ]
    },
    {
      "cell_type": "code",
      "execution_count": 18,
      "metadata": {
        "id": "-hBHrlHI_120",
        "outputId": "8c54ed38-2d3c-4e6a-cd4d-a302cca64fb9",
        "colab": {
          "base_uri": "https://localhost:8080/"
        }
      },
      "outputs": [
        {
          "output_type": "stream",
          "name": "stdout",
          "text": [
            "The sum of 12 and 5 is 17\n"
          ]
        }
      ],
      "source": [
        "from re import X\n",
        "def calculator(num1, num2):\n",
        "    calc = num1 + num2\n",
        "    return (\"The sum of {} and {} is \".format(num1, num2)) + str(calc)\n",
        "\n",
        "\n",
        "print(calculator(12, 5))"
      ]
    },
    {
      "cell_type": "code",
      "execution_count": null,
      "metadata": {
        "id": "GJCviDm6_121"
      },
      "outputs": [],
      "source": []
    },
    {
      "cell_type": "markdown",
      "metadata": {
        "id": "pBRyPdTW_122"
      },
      "source": [
        "#### Sum everything in the list\n",
        "\n",
        "Write a Python function to sum all the numbers in a list"
      ]
    },
    {
      "cell_type": "code",
      "execution_count": 19,
      "metadata": {
        "id": "CfyTJt92_124",
        "outputId": "880880b0-9c0c-4d8e-d53b-4e9acbfdfd2f",
        "colab": {
          "base_uri": "https://localhost:8080/"
        }
      },
      "outputs": [
        {
          "output_type": "stream",
          "name": "stdout",
          "text": [
            "40\n"
          ]
        }
      ],
      "source": [
        "def sum_list(numbers):\n",
        "    total = 0\n",
        "    for number in numbers:\n",
        "        total +=number\n",
        "    return total\n",
        "\n",
        "x = [3,5,7,3,5,7,10]\n",
        "\n",
        "print(sum_list(x))"
      ]
    },
    {
      "cell_type": "code",
      "execution_count": null,
      "metadata": {
        "id": "wG73EC08_125"
      },
      "outputs": [],
      "source": []
    },
    {
      "cell_type": "markdown",
      "metadata": {
        "id": "6x7wWjEZ_126"
      },
      "source": [
        "#### Reverse string\n",
        "\n",
        "Write a Python program to reverse a string.\n",
        "\n",
        "Sample String : \"1234abcd\" <br>\n",
        "Expected Output : \"dcba4321\""
      ]
    },
    {
      "cell_type": "code",
      "execution_count": 20,
      "metadata": {
        "id": "zgpGP5qa_128",
        "outputId": "515ed402-6d52-41e6-d0be-36b47b58ae8a",
        "colab": {
          "base_uri": "https://localhost:8080/"
        }
      },
      "outputs": [
        {
          "output_type": "stream",
          "name": "stdout",
          "text": [
            "dcba4321\n"
          ]
        }
      ],
      "source": [
        "Sample_String = \"1234abcd\"\n",
        "print(Sample_String[::-1])"
      ]
    },
    {
      "cell_type": "code",
      "execution_count": null,
      "metadata": {
        "id": "TntBQuuw_129"
      },
      "outputs": [],
      "source": []
    },
    {
      "cell_type": "markdown",
      "metadata": {
        "id": "r9VOyJ2v_129"
      },
      "source": [
        "#### Range check\n",
        "\n",
        "Write a Python function to check whether a number is in a given range. \n",
        "\n",
        "Inputs: number, tuple of min and max<br>\n",
        "Outputs: True/False"
      ]
    },
    {
      "cell_type": "code",
      "execution_count": null,
      "metadata": {
        "id": "66L2qgsc_12-"
      },
      "outputs": [],
      "source": []
    },
    {
      "cell_type": "code",
      "execution_count": null,
      "metadata": {
        "id": "ie7SxMuj_12_"
      },
      "outputs": [],
      "source": []
    },
    {
      "cell_type": "code",
      "execution_count": null,
      "metadata": {
        "id": "IZqCeBlN_13A"
      },
      "outputs": [],
      "source": []
    }
  ],
  "metadata": {
    "kernelspec": {
      "display_name": "Python 3",
      "language": "python",
      "name": "python3"
    },
    "language_info": {
      "codemirror_mode": {
        "name": "ipython",
        "version": 3
      },
      "file_extension": ".py",
      "mimetype": "text/x-python",
      "name": "python",
      "nbconvert_exporter": "python",
      "pygments_lexer": "ipython3",
      "version": "3.7.6"
    },
    "colab": {
      "provenance": [],
      "include_colab_link": true
    }
  },
  "nbformat": 4,
  "nbformat_minor": 0
}